{
 "cells": [
  {
   "cell_type": "markdown",
   "id": "daab2bfe-29e7-4745-ad60-92c2714f4583",
   "metadata": {},
   "source": [
    "### Interactive plots with dashboard features"
   ]
  },
  {
   "cell_type": "code",
   "execution_count": 3,
   "id": "64ae1a54-6b9d-42de-8ab1-0ffe39a87717",
   "metadata": {},
   "outputs": [
    {
     "name": "stderr",
     "output_type": "stream",
     "text": [
      "C:\\Users\\Atique\\AppData\\Local\\Temp\\ipykernel_18104\\3771151347.py:16: UserWarning:\n",
      "\n",
      "Parsing dates in %d/%m/%Y %H:%M:%S format when dayfirst=False (the default) was specified. Pass `dayfirst=True` or specify a format to silence this warning.\n",
      "\n"
     ]
    },
    {
     "data": {
      "application/vnd.plotly.v1+json": {
       "config": {
        "plotlyServerURL": "https://plot.ly"
       },
       "data": [
        {
         "hovertemplate": "<b>cinemahall - singlescreen</b><br>Hour: {x}<br>TVOC: {y:.2f} ppm<extra></extra>",
         "legendgroup": "cinemahall",
         "marker": {
          "size": 10,
          "symbol": "circle"
         },
         "mode": "lines+markers",
         "name": "cinemahall - singlescreen",
         "type": "scatter",
         "visible": true,
         "x": [
          0,
          1,
          2,
          3,
          4,
          5,
          6,
          7,
          8,
          9,
          10,
          11,
          12,
          13,
          14,
          15,
          16,
          17,
          18,
          19,
          20,
          21,
          22,
          23
         ],
         "y": [
          0.018420588235294116,
          0.018643333333333335,
          0.01822333333333333,
          0.01831666666666667,
          0.019453333333333333,
          0.019683333333333334,
          0.02027666666666667,
          0.018346666666666664,
          0.01639,
          0.014959064327485378,
          0.02690155440414508,
          0.03338775510204082,
          0.04129965156794425,
          0.04988834951456311,
          0.04848656716417911,
          0.046534775888717156,
          0.06057956448911223,
          0.0539718309859155,
          0.030217721518987342,
          0.024719444444444443,
          0.024413888888888888,
          0.020655555555555555,
          0.024297222222222224,
          0.021922222222222225
         ]
        },
        {
         "hovertemplate": "<b>cinemahall - standalonemultiplex</b><br>Hour: {x}<br>TVOC: {y:.2f} ppm<extra></extra>",
         "legendgroup": "cinemahall",
         "marker": {
          "size": 10,
          "symbol": "circle"
         },
         "mode": "lines+markers",
         "name": "cinemahall - standalonemultiplex",
         "type": "scatter",
         "visible": true,
         "x": [
          0,
          1,
          2,
          3,
          4,
          5,
          6,
          7,
          8,
          9,
          10,
          11,
          12,
          13,
          14,
          15,
          16,
          17,
          18,
          19,
          20,
          21,
          22,
          23
         ],
         "y": [
          0,
          0,
          0,
          0,
          0,
          0,
          0,
          0,
          0,
          0,
          0.0020408163265306124,
          0,
          0,
          0.0003968253968253968,
          0,
          0,
          0,
          0,
          0,
          0,
          0,
          0,
          0,
          0
         ]
        },
        {
         "hovertemplate": "<b>offices - bank</b><br>Hour: {x}<br>TVOC: {y:.2f} ppm<extra></extra>",
         "legendgroup": "offices",
         "marker": {
          "size": 10,
          "symbol": "square"
         },
         "mode": "lines+markers",
         "name": "offices - bank",
         "type": "scatter",
         "visible": false,
         "x": [
          0,
          1,
          2,
          3,
          4,
          5,
          6,
          7,
          8,
          9,
          10,
          11,
          12,
          13,
          14,
          15,
          16,
          17,
          18,
          19,
          20,
          21,
          22,
          23
         ],
         "y": [
          0.03727272727272728,
          0.03636363636363636,
          0.036515151515151514,
          0.038636363636363635,
          0.045454545454545456,
          0.045454545454545456,
          0.045454545454545456,
          0.04560606060606061,
          0.045454545454545456,
          0.15045454545454548,
          0.10440340909090909,
          0.06531645569620254,
          0.045804195804195806,
          0.03888888888888889,
          0.02867965367965368,
          0.025,
          0.02622950819672131,
          0.030555555555555555,
          0.034992887624466576,
          0.036666666666666674,
          0.032424242424242425,
          0.03106060606060606,
          0.03636363636363636,
          0.03681818181818182
         ]
        },
        {
         "hovertemplate": "<b>offices - govtoffice</b><br>Hour: {x}<br>TVOC: {y:.2f} ppm<extra></extra>",
         "legendgroup": "offices",
         "marker": {
          "size": 10,
          "symbol": "square"
         },
         "mode": "lines+markers",
         "name": "offices - govtoffice",
         "type": "scatter",
         "visible": false,
         "x": [
          0,
          1,
          2,
          3,
          4,
          5,
          6,
          7,
          8,
          9,
          10,
          11,
          12,
          13,
          14,
          15,
          16,
          17,
          18,
          19,
          20,
          21,
          22,
          23
         ],
         "y": [
          0.046470588235294125,
          0.047058823529411764,
          0.046960784313725495,
          0.046470588235294125,
          0.044803921568627454,
          0.045784313725490196,
          0.04519607843137255,
          0.04735294117647059,
          0.04696823869104909,
          0.0950596252129472,
          0.062534435261708,
          0.05691699604743083,
          0.15347368421052632,
          0.09273333333333333,
          0.1046831955922865,
          0.29537366548042704,
          0.3077531966714025,
          0.30438524590163935,
          0.3105661965901915,
          0.1443609022556391,
          0.026574074074074076,
          0.03212962962962963,
          0.03771593090211133,
          0.041176470588235294
         ]
        },
        {
         "hovertemplate": "<b>offices - pvtoffice</b><br>Hour: {x}<br>TVOC: {y:.2f} ppm<extra></extra>",
         "legendgroup": "offices",
         "marker": {
          "size": 10,
          "symbol": "square"
         },
         "mode": "lines+markers",
         "name": "offices - pvtoffice",
         "type": "scatter",
         "visible": false,
         "x": [
          0,
          1,
          2,
          3,
          4,
          5,
          6,
          7,
          8,
          9,
          10,
          11,
          12,
          13,
          14,
          15,
          16,
          17,
          18,
          19,
          20,
          21,
          22,
          23
         ],
         "y": [
          0.1503921568627451,
          0.1493137254901961,
          0.14872549019607845,
          0.14553483807654563,
          0.14911591355599216,
          0.15637254901960784,
          0.1615686274509804,
          0.325,
          0.20333333333333334,
          0.14941176470588236,
          0.12490196078431373,
          0.16033834586466164,
          0.22110927152317883,
          0.22145110410094637,
          0.16385826771653542,
          0.25700325732899026,
          0.21850564726324934,
          0.14561717352415024,
          0.07024952015355086,
          0.06931372549019608,
          0.07,
          0.08676470588235294,
          0.11470588235294117,
          0.13823529411764707
         ]
        },
        {
         "hovertemplate": "<b>residences - hig</b><br>Hour: {x}<br>TVOC: {y:.2f} ppm<extra></extra>",
         "legendgroup": "residences",
         "marker": {
          "size": 10,
          "symbol": "diamond"
         },
         "mode": "lines+markers",
         "name": "residences - hig",
         "type": "scatter",
         "visible": false,
         "x": [
          0,
          1,
          2,
          3,
          4,
          5,
          6,
          7,
          8,
          9,
          10,
          11,
          12,
          13,
          14,
          15,
          16,
          17,
          18,
          19,
          20,
          21,
          22,
          23
         ],
         "y": [
          0.034375,
          0.036388888888888894,
          0.036944444444444446,
          0.03652777777777778,
          0.02868055555555556,
          0.03104166666666667,
          0.03958333333333333,
          0.06756944444444445,
          0.026180555555555558,
          0.009160839160839162,
          0.007681159420289855,
          0.0072254335260115606,
          0.011849710982658959,
          0.008763897972531066,
          0.007044025157232705,
          0.0011890606420927466,
          0.0004920049200492005,
          0.0009876543209876543,
          0.006611039794608473,
          0.0444076770350761,
          0.04685754189944134,
          0.05701388888888889,
          0.043680555555555556,
          0.043819444444444446
         ]
        },
        {
         "hovertemplate": "<b>residences - ligews</b><br>Hour: {x}<br>TVOC: {y:.2f} ppm<extra></extra>",
         "legendgroup": "residences",
         "marker": {
          "size": 10,
          "symbol": "diamond"
         },
         "mode": "lines+markers",
         "name": "residences - ligews",
         "type": "scatter",
         "visible": false,
         "x": [
          0,
          1,
          2,
          3,
          4,
          5,
          6,
          7,
          8,
          9,
          10,
          11,
          12,
          13,
          14,
          15,
          16,
          17,
          18,
          19,
          20,
          21,
          22,
          23
         ],
         "y": [
          0.2380125,
          0.23486944444444444,
          0.25009305555555555,
          0.26008472222222223,
          0.26132777777777777,
          0.2675486111111111,
          0.17354583333333334,
          0.1498861111111111,
          0.12637777777777778,
          0.159225,
          0.09622638888888889,
          0.09813899613899614,
          0.0989985938598547,
          0.09392653155228006,
          0.0582010485525416,
          0.008896205357142858,
          0.009012600229095075,
          1.1661125570776256,
          0.10983242009132421,
          0.13067917829064166,
          0.0982078431372549,
          0.08288888888888889,
          0.09817916666666668,
          0.16432222222222223
         ]
        },
        {
         "hovertemplate": "<b>residences - mig</b><br>Hour: {x}<br>TVOC: {y:.2f} ppm<extra></extra>",
         "legendgroup": "residences",
         "marker": {
          "size": 10,
          "symbol": "diamond"
         },
         "mode": "lines+markers",
         "name": "residences - mig",
         "type": "scatter",
         "visible": false,
         "x": [
          0,
          1,
          2,
          3,
          4,
          5,
          6,
          7,
          8,
          9,
          10,
          11,
          12,
          13,
          14,
          15,
          16,
          17,
          18,
          19,
          20,
          21,
          22,
          23
         ],
         "y": [
          0.13564237599510104,
          0.1396235004613965,
          0.15739727272727272,
          0.16525424757281554,
          0.1719885802469136,
          0.16800839291265152,
          0.15210944957047406,
          0.12256525911708253,
          0.0804425412644036,
          0.06064450686641698,
          0.06942263918794217,
          0.04899276236429433,
          0.045784957914743414,
          0.05261499867969369,
          0.050708909370199694,
          0.05393431812186758,
          0.06249577226606539,
          0.07414285714285715,
          0.05739219798657719,
          0.07529766368618403,
          0.08036626227614097,
          0.09601488095238096,
          0.10867053571428571,
          0.12070251438957892
         ]
        },
        {
         "hovertemplate": "<b>restaurantandeateries - acrestaurant</b><br>Hour: {x}<br>TVOC: {y:.2f} ppm<extra></extra>",
         "legendgroup": "restaurantandeateries",
         "marker": {
          "size": 10,
          "symbol": "cross"
         },
         "mode": "lines+markers",
         "name": "restaurantandeateries - acrestaurant",
         "type": "scatter",
         "visible": false,
         "x": [
          0,
          1,
          2,
          3,
          4,
          5,
          6,
          7,
          8,
          9,
          10,
          11,
          12,
          13,
          14,
          15,
          16,
          17,
          18,
          19,
          20,
          21,
          22,
          23
         ],
         "y": [
          0.5190369047619048,
          0.3665786802030457,
          0.42227820512820513,
          0.5236999999999999,
          0.6170166666666667,
          0.7259846153846155,
          0.7924480431848854,
          0.8131818181818182,
          0.7898484848484848,
          0.4488023952095809,
          0.20254110612855009,
          0.13666666666666666,
          0.09012875536480687,
          0.09479289940828403,
          0.13492239467849224,
          0.16421173762945915,
          0.13351063829787235,
          0.6857894736842106,
          0.9777918781725888,
          0.38878378378378375,
          0.25527777777777777,
          0.2391666666666667,
          0.24319444444444444,
          0.8692168978562421
         ]
        },
        {
         "hovertemplate": "<b>restaurantandeateries - nonacrestaurant</b><br>Hour: {x}<br>TVOC: {y:.2f} ppm<extra></extra>",
         "legendgroup": "restaurantandeateries",
         "marker": {
          "size": 10,
          "symbol": "cross"
         },
         "mode": "lines+markers",
         "name": "restaurantandeateries - nonacrestaurant",
         "type": "scatter",
         "visible": false,
         "x": [
          0,
          1,
          2,
          3,
          4,
          5,
          6,
          7,
          8,
          9,
          10,
          11,
          12,
          13,
          14,
          15,
          16,
          17,
          18,
          19,
          20,
          21,
          22,
          23
         ],
         "y": [
          0.08666666666666667,
          0.07791666666666666,
          0.08166666666666668,
          0.075,
          0.07416666666666667,
          0.0625,
          0.07270833333333333,
          0.08020833333333334,
          0.07729166666666668,
          0.07625,
          0.11375,
          0.10531468531468531,
          0.10097222222222223,
          0.0916452442159383,
          0.1004267425320057,
          0.09381818181818181,
          0.08277777777777778,
          0.0938888888888889,
          0.10537037037037038,
          0.10648148148148148,
          0.11166666666666668,
          0.0883424408014572,
          0.08767967145790555,
          0.09833333333333334
         ]
        },
        {
         "hovertemplate": "<b>school - ac</b><br>Hour: {x}<br>TVOC: {y:.2f} ppm<extra></extra>",
         "legendgroup": "school",
         "marker": {
          "size": 10,
          "symbol": "x"
         },
         "mode": "lines+markers",
         "name": "school - ac",
         "type": "scatter",
         "visible": false,
         "x": [
          0,
          1,
          2,
          3,
          4,
          5,
          6,
          7,
          8,
          9,
          10,
          11,
          12,
          13,
          14,
          15,
          16,
          17,
          18,
          19,
          20,
          21,
          22,
          23
         ],
         "y": [
          0,
          0,
          0,
          0,
          0,
          0,
          0,
          0.035,
          0.19583333333333333,
          0.08489208633093526,
          0.1,
          0.14777777777777779,
          0.10166666666666667,
          0,
          0.030555555555555555,
          0.023333333333333334,
          0.061870503597122296,
          0.0033333333333333335,
          0,
          0,
          0,
          0,
          0,
          0
         ]
        },
        {
         "hovertemplate": "<b>school - nonac</b><br>Hour: {x}<br>TVOC: {y:.2f} ppm<extra></extra>",
         "legendgroup": "school",
         "marker": {
          "size": 10,
          "symbol": "x"
         },
         "mode": "lines+markers",
         "name": "school - nonac",
         "type": "scatter",
         "visible": false,
         "x": [
          0,
          1,
          2,
          3,
          4,
          5,
          6,
          7,
          8,
          9,
          10,
          11,
          12,
          13,
          14,
          15,
          16,
          17,
          18,
          19,
          20,
          21,
          22,
          23
         ],
         "y": [
          0.024583333333333336,
          0.005833333333333334,
          0,
          0.016666666666666666,
          0.013333333333333334,
          0,
          0,
          0,
          0.018777292576419212,
          0.03791666666666667,
          0.042320819112627986,
          0.03978494623655914,
          0.04875,
          0.04791666666666667,
          0.025833333333333333,
          0.0037500000000000003,
          0.0004385964912280702,
          0,
          0,
          0,
          0,
          0.0004166666666666667,
          0.007500000000000001,
          0.010833333333333334
         ]
        },
        {
         "hovertemplate": "<b>shoppingmall - plotbetween500to5000</b><br>Hour: {x}<br>TVOC: {y:.2f} ppm<extra></extra>",
         "legendgroup": "shoppingmall",
         "marker": {
          "size": 10,
          "symbol": "triangle-up"
         },
         "mode": "lines+markers",
         "name": "shoppingmall - plotbetween500to5000",
         "type": "scatter",
         "visible": false,
         "x": [
          8,
          9,
          10,
          11,
          12,
          13,
          14,
          15,
          16,
          17,
          18,
          19,
          20
         ],
         "y": [
          0,
          0,
          0,
          0.036065573770491806,
          0.0006666666666666668,
          0,
          0.0006666666666666668,
          0,
          0,
          0,
          0,
          0,
          0
         ]
        },
        {
         "hovertemplate": "<b>shoppingmall - plotgreaterthan5000</b><br>Hour: {x}<br>TVOC: {y:.2f} ppm<extra></extra>",
         "legendgroup": "shoppingmall",
         "marker": {
          "size": 10,
          "symbol": "triangle-up"
         },
         "mode": "lines+markers",
         "name": "shoppingmall - plotgreaterthan5000",
         "type": "scatter",
         "visible": false,
         "x": [
          0,
          1,
          2,
          3,
          4,
          5,
          6,
          7,
          8,
          9,
          10,
          11,
          12,
          13,
          14,
          15,
          16,
          17,
          18,
          19,
          20,
          21,
          22,
          23
         ],
         "y": [
          0.14653666666666665,
          0.1789416666666667,
          0.23141333333333336,
          0.28926166666666664,
          0.307275,
          0.31122500000000003,
          0.29125,
          0.27166666666666667,
          0.235535,
          0.21672833333333336,
          0.21117520661157024,
          0.2806070422535211,
          0.2620512820512821,
          0.19807692307692307,
          0.17576923076923076,
          0.15451030927835052,
          0.1358592692828146,
          0.11826633785450062,
          0.09533655172413794,
          0.08641857142857143,
          0.06044186046511628,
          0.06434,
          0.05228833333333333,
          0.12423666666666668
         ]
        },
        {
         "hovertemplate": "<b>shoppingmall - plotlessthan500</b><br>Hour: {x}<br>TVOC: {y:.2f} ppm<extra></extra>",
         "legendgroup": "shoppingmall",
         "marker": {
          "size": 10,
          "symbol": "triangle-up"
         },
         "mode": "lines+markers",
         "name": "shoppingmall - plotlessthan500",
         "type": "scatter",
         "visible": false,
         "x": [
          0,
          1,
          2,
          3,
          4,
          5,
          6,
          7,
          8,
          9,
          10,
          11,
          12,
          13,
          14,
          15,
          16,
          17,
          18,
          19,
          20,
          21,
          22,
          23
         ],
         "y": [
          0.1390666666666667,
          0.1404041666666667,
          0.13474166666666668,
          0.1109,
          0.10904583333333333,
          0.110275,
          0.1109875,
          0.12004583333333334,
          0.14199166666666668,
          0.3012458333333334,
          0.3720168776371308,
          0.19412916666666666,
          0.16706666666666667,
          0.1603576923076923,
          0.15107100591715977,
          0.12856944444444446,
          0.09943343653250776,
          0.11445934959349593,
          0.11417083333333333,
          0.10844166666666667,
          0.11887916666666667,
          0.12524583333333333,
          0.12621666666666667,
          0.12899583333333334
         ]
        }
       ],
       "layout": {
        "autosize": true,
        "font": {
         "size": 14
        },
        "hovermode": "closest",
        "legend": {
         "font": {
          "size": 14
         },
         "title": {
          "font": {
           "color": "darkblue",
           "size": 16
          },
          "text": "Categories and Sub Categories"
         }
        },
        "margin": {
         "b": 40,
         "l": 40,
         "r": 40,
         "t": 80
        },
        "paper_bgcolor": "white",
        "plot_bgcolor": "white",
        "showlegend": true,
        "template": {
         "data": {
          "bar": [
           {
            "error_x": {
             "color": "#2a3f5f"
            },
            "error_y": {
             "color": "#2a3f5f"
            },
            "marker": {
             "line": {
              "color": "#E5ECF6",
              "width": 0.5
             },
             "pattern": {
              "fillmode": "overlay",
              "size": 10,
              "solidity": 0.2
             }
            },
            "type": "bar"
           }
          ],
          "barpolar": [
           {
            "marker": {
             "line": {
              "color": "#E5ECF6",
              "width": 0.5
             },
             "pattern": {
              "fillmode": "overlay",
              "size": 10,
              "solidity": 0.2
             }
            },
            "type": "barpolar"
           }
          ],
          "carpet": [
           {
            "aaxis": {
             "endlinecolor": "#2a3f5f",
             "gridcolor": "white",
             "linecolor": "white",
             "minorgridcolor": "white",
             "startlinecolor": "#2a3f5f"
            },
            "baxis": {
             "endlinecolor": "#2a3f5f",
             "gridcolor": "white",
             "linecolor": "white",
             "minorgridcolor": "white",
             "startlinecolor": "#2a3f5f"
            },
            "type": "carpet"
           }
          ],
          "choropleth": [
           {
            "colorbar": {
             "outlinewidth": 0,
             "ticks": ""
            },
            "type": "choropleth"
           }
          ],
          "contour": [
           {
            "colorbar": {
             "outlinewidth": 0,
             "ticks": ""
            },
            "colorscale": [
             [
              0,
              "#0d0887"
             ],
             [
              0.1111111111111111,
              "#46039f"
             ],
             [
              0.2222222222222222,
              "#7201a8"
             ],
             [
              0.3333333333333333,
              "#9c179e"
             ],
             [
              0.4444444444444444,
              "#bd3786"
             ],
             [
              0.5555555555555556,
              "#d8576b"
             ],
             [
              0.6666666666666666,
              "#ed7953"
             ],
             [
              0.7777777777777778,
              "#fb9f3a"
             ],
             [
              0.8888888888888888,
              "#fdca26"
             ],
             [
              1,
              "#f0f921"
             ]
            ],
            "type": "contour"
           }
          ],
          "contourcarpet": [
           {
            "colorbar": {
             "outlinewidth": 0,
             "ticks": ""
            },
            "type": "contourcarpet"
           }
          ],
          "heatmap": [
           {
            "colorbar": {
             "outlinewidth": 0,
             "ticks": ""
            },
            "colorscale": [
             [
              0,
              "#0d0887"
             ],
             [
              0.1111111111111111,
              "#46039f"
             ],
             [
              0.2222222222222222,
              "#7201a8"
             ],
             [
              0.3333333333333333,
              "#9c179e"
             ],
             [
              0.4444444444444444,
              "#bd3786"
             ],
             [
              0.5555555555555556,
              "#d8576b"
             ],
             [
              0.6666666666666666,
              "#ed7953"
             ],
             [
              0.7777777777777778,
              "#fb9f3a"
             ],
             [
              0.8888888888888888,
              "#fdca26"
             ],
             [
              1,
              "#f0f921"
             ]
            ],
            "type": "heatmap"
           }
          ],
          "heatmapgl": [
           {
            "colorbar": {
             "outlinewidth": 0,
             "ticks": ""
            },
            "colorscale": [
             [
              0,
              "#0d0887"
             ],
             [
              0.1111111111111111,
              "#46039f"
             ],
             [
              0.2222222222222222,
              "#7201a8"
             ],
             [
              0.3333333333333333,
              "#9c179e"
             ],
             [
              0.4444444444444444,
              "#bd3786"
             ],
             [
              0.5555555555555556,
              "#d8576b"
             ],
             [
              0.6666666666666666,
              "#ed7953"
             ],
             [
              0.7777777777777778,
              "#fb9f3a"
             ],
             [
              0.8888888888888888,
              "#fdca26"
             ],
             [
              1,
              "#f0f921"
             ]
            ],
            "type": "heatmapgl"
           }
          ],
          "histogram": [
           {
            "marker": {
             "pattern": {
              "fillmode": "overlay",
              "size": 10,
              "solidity": 0.2
             }
            },
            "type": "histogram"
           }
          ],
          "histogram2d": [
           {
            "colorbar": {
             "outlinewidth": 0,
             "ticks": ""
            },
            "colorscale": [
             [
              0,
              "#0d0887"
             ],
             [
              0.1111111111111111,
              "#46039f"
             ],
             [
              0.2222222222222222,
              "#7201a8"
             ],
             [
              0.3333333333333333,
              "#9c179e"
             ],
             [
              0.4444444444444444,
              "#bd3786"
             ],
             [
              0.5555555555555556,
              "#d8576b"
             ],
             [
              0.6666666666666666,
              "#ed7953"
             ],
             [
              0.7777777777777778,
              "#fb9f3a"
             ],
             [
              0.8888888888888888,
              "#fdca26"
             ],
             [
              1,
              "#f0f921"
             ]
            ],
            "type": "histogram2d"
           }
          ],
          "histogram2dcontour": [
           {
            "colorbar": {
             "outlinewidth": 0,
             "ticks": ""
            },
            "colorscale": [
             [
              0,
              "#0d0887"
             ],
             [
              0.1111111111111111,
              "#46039f"
             ],
             [
              0.2222222222222222,
              "#7201a8"
             ],
             [
              0.3333333333333333,
              "#9c179e"
             ],
             [
              0.4444444444444444,
              "#bd3786"
             ],
             [
              0.5555555555555556,
              "#d8576b"
             ],
             [
              0.6666666666666666,
              "#ed7953"
             ],
             [
              0.7777777777777778,
              "#fb9f3a"
             ],
             [
              0.8888888888888888,
              "#fdca26"
             ],
             [
              1,
              "#f0f921"
             ]
            ],
            "type": "histogram2dcontour"
           }
          ],
          "mesh3d": [
           {
            "colorbar": {
             "outlinewidth": 0,
             "ticks": ""
            },
            "type": "mesh3d"
           }
          ],
          "parcoords": [
           {
            "line": {
             "colorbar": {
              "outlinewidth": 0,
              "ticks": ""
             }
            },
            "type": "parcoords"
           }
          ],
          "pie": [
           {
            "automargin": true,
            "type": "pie"
           }
          ],
          "scatter": [
           {
            "fillpattern": {
             "fillmode": "overlay",
             "size": 10,
             "solidity": 0.2
            },
            "type": "scatter"
           }
          ],
          "scatter3d": [
           {
            "line": {
             "colorbar": {
              "outlinewidth": 0,
              "ticks": ""
             }
            },
            "marker": {
             "colorbar": {
              "outlinewidth": 0,
              "ticks": ""
             }
            },
            "type": "scatter3d"
           }
          ],
          "scattercarpet": [
           {
            "marker": {
             "colorbar": {
              "outlinewidth": 0,
              "ticks": ""
             }
            },
            "type": "scattercarpet"
           }
          ],
          "scattergeo": [
           {
            "marker": {
             "colorbar": {
              "outlinewidth": 0,
              "ticks": ""
             }
            },
            "type": "scattergeo"
           }
          ],
          "scattergl": [
           {
            "marker": {
             "colorbar": {
              "outlinewidth": 0,
              "ticks": ""
             }
            },
            "type": "scattergl"
           }
          ],
          "scattermapbox": [
           {
            "marker": {
             "colorbar": {
              "outlinewidth": 0,
              "ticks": ""
             }
            },
            "type": "scattermapbox"
           }
          ],
          "scatterpolar": [
           {
            "marker": {
             "colorbar": {
              "outlinewidth": 0,
              "ticks": ""
             }
            },
            "type": "scatterpolar"
           }
          ],
          "scatterpolargl": [
           {
            "marker": {
             "colorbar": {
              "outlinewidth": 0,
              "ticks": ""
             }
            },
            "type": "scatterpolargl"
           }
          ],
          "scatterternary": [
           {
            "marker": {
             "colorbar": {
              "outlinewidth": 0,
              "ticks": ""
             }
            },
            "type": "scatterternary"
           }
          ],
          "surface": [
           {
            "colorbar": {
             "outlinewidth": 0,
             "ticks": ""
            },
            "colorscale": [
             [
              0,
              "#0d0887"
             ],
             [
              0.1111111111111111,
              "#46039f"
             ],
             [
              0.2222222222222222,
              "#7201a8"
             ],
             [
              0.3333333333333333,
              "#9c179e"
             ],
             [
              0.4444444444444444,
              "#bd3786"
             ],
             [
              0.5555555555555556,
              "#d8576b"
             ],
             [
              0.6666666666666666,
              "#ed7953"
             ],
             [
              0.7777777777777778,
              "#fb9f3a"
             ],
             [
              0.8888888888888888,
              "#fdca26"
             ],
             [
              1,
              "#f0f921"
             ]
            ],
            "type": "surface"
           }
          ],
          "table": [
           {
            "cells": {
             "fill": {
              "color": "#EBF0F8"
             },
             "line": {
              "color": "white"
             }
            },
            "header": {
             "fill": {
              "color": "#C8D4E3"
             },
             "line": {
              "color": "white"
             }
            },
            "type": "table"
           }
          ]
         },
         "layout": {
          "annotationdefaults": {
           "arrowcolor": "#2a3f5f",
           "arrowhead": 0,
           "arrowwidth": 1
          },
          "autotypenumbers": "strict",
          "coloraxis": {
           "colorbar": {
            "outlinewidth": 0,
            "ticks": ""
           }
          },
          "colorscale": {
           "diverging": [
            [
             0,
             "#8e0152"
            ],
            [
             0.1,
             "#c51b7d"
            ],
            [
             0.2,
             "#de77ae"
            ],
            [
             0.3,
             "#f1b6da"
            ],
            [
             0.4,
             "#fde0ef"
            ],
            [
             0.5,
             "#f7f7f7"
            ],
            [
             0.6,
             "#e6f5d0"
            ],
            [
             0.7,
             "#b8e186"
            ],
            [
             0.8,
             "#7fbc41"
            ],
            [
             0.9,
             "#4d9221"
            ],
            [
             1,
             "#276419"
            ]
           ],
           "sequential": [
            [
             0,
             "#0d0887"
            ],
            [
             0.1111111111111111,
             "#46039f"
            ],
            [
             0.2222222222222222,
             "#7201a8"
            ],
            [
             0.3333333333333333,
             "#9c179e"
            ],
            [
             0.4444444444444444,
             "#bd3786"
            ],
            [
             0.5555555555555556,
             "#d8576b"
            ],
            [
             0.6666666666666666,
             "#ed7953"
            ],
            [
             0.7777777777777778,
             "#fb9f3a"
            ],
            [
             0.8888888888888888,
             "#fdca26"
            ],
            [
             1,
             "#f0f921"
            ]
           ],
           "sequentialminus": [
            [
             0,
             "#0d0887"
            ],
            [
             0.1111111111111111,
             "#46039f"
            ],
            [
             0.2222222222222222,
             "#7201a8"
            ],
            [
             0.3333333333333333,
             "#9c179e"
            ],
            [
             0.4444444444444444,
             "#bd3786"
            ],
            [
             0.5555555555555556,
             "#d8576b"
            ],
            [
             0.6666666666666666,
             "#ed7953"
            ],
            [
             0.7777777777777778,
             "#fb9f3a"
            ],
            [
             0.8888888888888888,
             "#fdca26"
            ],
            [
             1,
             "#f0f921"
            ]
           ]
          },
          "colorway": [
           "#636efa",
           "#EF553B",
           "#00cc96",
           "#ab63fa",
           "#FFA15A",
           "#19d3f3",
           "#FF6692",
           "#B6E880",
           "#FF97FF",
           "#FECB52"
          ],
          "font": {
           "color": "#2a3f5f"
          },
          "geo": {
           "bgcolor": "white",
           "lakecolor": "white",
           "landcolor": "#E5ECF6",
           "showlakes": true,
           "showland": true,
           "subunitcolor": "white"
          },
          "hoverlabel": {
           "align": "left"
          },
          "hovermode": "closest",
          "mapbox": {
           "style": "light"
          },
          "paper_bgcolor": "white",
          "plot_bgcolor": "#E5ECF6",
          "polar": {
           "angularaxis": {
            "gridcolor": "white",
            "linecolor": "white",
            "ticks": ""
           },
           "bgcolor": "#E5ECF6",
           "radialaxis": {
            "gridcolor": "white",
            "linecolor": "white",
            "ticks": ""
           }
          },
          "scene": {
           "xaxis": {
            "backgroundcolor": "#E5ECF6",
            "gridcolor": "white",
            "gridwidth": 2,
            "linecolor": "white",
            "showbackground": true,
            "ticks": "",
            "zerolinecolor": "white"
           },
           "yaxis": {
            "backgroundcolor": "#E5ECF6",
            "gridcolor": "white",
            "gridwidth": 2,
            "linecolor": "white",
            "showbackground": true,
            "ticks": "",
            "zerolinecolor": "white"
           },
           "zaxis": {
            "backgroundcolor": "#E5ECF6",
            "gridcolor": "white",
            "gridwidth": 2,
            "linecolor": "white",
            "showbackground": true,
            "ticks": "",
            "zerolinecolor": "white"
           }
          },
          "shapedefaults": {
           "line": {
            "color": "#2a3f5f"
           }
          },
          "ternary": {
           "aaxis": {
            "gridcolor": "white",
            "linecolor": "white",
            "ticks": ""
           },
           "baxis": {
            "gridcolor": "white",
            "linecolor": "white",
            "ticks": ""
           },
           "bgcolor": "#E5ECF6",
           "caxis": {
            "gridcolor": "white",
            "linecolor": "white",
            "ticks": ""
           }
          },
          "title": {
           "x": 0.05
          },
          "xaxis": {
           "automargin": true,
           "gridcolor": "white",
           "linecolor": "white",
           "ticks": "",
           "title": {
            "standoff": 15
           },
           "zerolinecolor": "white",
           "zerolinewidth": 2
          },
          "yaxis": {
           "automargin": true,
           "gridcolor": "white",
           "linecolor": "white",
           "ticks": "",
           "title": {
            "standoff": 15
           },
           "zerolinecolor": "white",
           "zerolinewidth": 2
          }
         }
        },
        "title": {
         "font": {
          "color": "darkblue",
          "size": 20
         },
         "text": "cinemahall - Sub Categories"
        },
        "updatemenus": [
         {
          "active": 1,
          "buttons": [
           {
            "args": [
             {
              "visible": [
               true,
               true,
               true,
               true,
               true,
               true,
               true,
               true,
               true,
               true,
               true,
               true,
               true,
               true,
               true
              ]
             },
             {
              "title": "All Categories and Sub Categories"
             }
            ],
            "label": "All",
            "method": "update"
           },
           {
            "args": [
             {
              "visible": [
               true,
               true,
               false,
               false,
               false,
               false,
               false,
               false,
               false,
               false,
               false,
               false,
               false,
               false,
               false
              ]
             },
             {
              "title": "cinemahall - Sub Categories"
             }
            ],
            "label": "cinemahall",
            "method": "update"
           },
           {
            "args": [
             {
              "visible": [
               false,
               false,
               true,
               true,
               true,
               false,
               false,
               false,
               false,
               false,
               false,
               false,
               false,
               false,
               false
              ]
             },
             {
              "title": "offices - Sub Categories"
             }
            ],
            "label": "offices",
            "method": "update"
           },
           {
            "args": [
             {
              "visible": [
               false,
               false,
               false,
               false,
               false,
               true,
               true,
               true,
               false,
               false,
               false,
               false,
               false,
               false,
               false
              ]
             },
             {
              "title": "residences - Sub Categories"
             }
            ],
            "label": "residences",
            "method": "update"
           },
           {
            "args": [
             {
              "visible": [
               false,
               false,
               false,
               false,
               false,
               false,
               false,
               false,
               true,
               true,
               false,
               false,
               false,
               false,
               false
              ]
             },
             {
              "title": "restaurantandeateries - Sub Categories"
             }
            ],
            "label": "restaurantandeateries",
            "method": "update"
           },
           {
            "args": [
             {
              "visible": [
               false,
               false,
               false,
               false,
               false,
               false,
               false,
               false,
               false,
               false,
               true,
               true,
               false,
               false,
               false
              ]
             },
             {
              "title": "school - Sub Categories"
             }
            ],
            "label": "school",
            "method": "update"
           },
           {
            "args": [
             {
              "visible": [
               false,
               false,
               false,
               false,
               false,
               false,
               false,
               false,
               false,
               false,
               false,
               false,
               true,
               true,
               true
              ]
             },
             {
              "title": "shoppingmall - Sub Categories"
             }
            ],
            "label": "shoppingmall",
            "method": "update"
           }
          ],
          "x": 1.15,
          "xanchor": "right",
          "y": 1.15,
          "yanchor": "top"
         }
        ],
        "xaxis": {
         "autorange": true,
         "dtick": 1,
         "gridcolor": "lightgray",
         "gridwidth": 1,
         "range": [
          -1.5276951963698955,
          24.527695196369894
         ],
         "showgrid": true,
         "tickmode": "linear",
         "title": {
          "text": "Hour of the Day"
         },
         "type": "linear"
        },
        "yaxis": {
         "autorange": true,
         "gridcolor": "lightgray",
         "gridwidth": 1,
         "range": [
          -0.0056008736562728634,
          0.0661804381453851
         ],
         "showgrid": true,
         "title": {
          "text": "Average TVOC Concentration (ppm)"
         },
         "type": "linear"
        }
       }
      },
      "image/png": "[encoded data removed]",
      "text/html": [
       "<div>                            <div id=\"f8491202-656f-4f30-b342-188093035504\" class=\"plotly-graph-div\" style=\"height:525px; width:100%;\"></div>            <script type=\"text/javascript\">                require([\"plotly\"], function(Plotly) {                    window.PLOTLYENV=window.PLOTLYENV || {};                                    if (document.getElementById(\"f8491202-656f-4f30-b342-188093035504\")) {                    Plotly.newPlot(                        \"f8491202-656f-4f30-b342-188093035504\",                        [{\"hovertemplate\":\"<b>cinemahall - singlescreen</b><br>Hour: {x}<br>TVOC: {y:.2f} ppm<extra></extra>\",\"legendgroup\":\"cinemahall\",\"marker\":{\"size\":10,\"symbol\":\"circle\"},\"mode\":\"lines+markers\",\"name\":\"cinemahall - singlescreen\",\"x\":[0,1,2,3,4,5,6,7,8,9,10,11,12,13,14,15,16,17,18,19,20,21,22,23],\"y\":[0.018420588235294116,0.018643333333333335,0.01822333333333333,0.01831666666666667,0.019453333333333333,0.019683333333333334,0.02027666666666667,0.018346666666666664,0.01639,0.014959064327485378,0.02690155440414508,0.03338775510204082,0.04129965156794425,0.04988834951456311,0.04848656716417911,0.046534775888717156,0.06057956448911223,0.0539718309859155,0.030217721518987342,0.024719444444444443,0.024413888888888888,0.020655555555555555,0.024297222222222224,0.021922222222222225],\"type\":\"scatter\"},{\"hovertemplate\":\"<b>cinemahall - standalonemultiplex</b><br>Hour: {x}<br>TVOC: {y:.2f} ppm<extra></extra>\",\"legendgroup\":\"cinemahall\",\"marker\":{\"size\":10,\"symbol\":\"circle\"},\"mode\":\"lines+markers\",\"name\":\"cinemahall - standalonemultiplex\",\"x\":[0,1,2,3,4,5,6,7,8,9,10,11,12,13,14,15,16,17,18,19,20,21,22,23],\"y\":[0.0,0.0,0.0,0.0,0.0,0.0,0.0,0.0,0.0,0.0,0.0020408163265306124,0.0,0.0,0.0003968253968253968,0.0,0.0,0.0,0.0,0.0,0.0,0.0,0.0,0.0,0.0],\"type\":\"scatter\"},{\"hovertemplate\":\"<b>offices - bank</b><br>Hour: {x}<br>TVOC: {y:.2f} ppm<extra></extra>\",\"legendgroup\":\"offices\",\"marker\":{\"size\":10,\"symbol\":\"square\"},\"mode\":\"lines+markers\",\"name\":\"offices - bank\",\"x\":[0,1,2,3,4,5,6,7,8,9,10,11,12,13,14,15,16,17,18,19,20,21,22,23],\"y\":[0.03727272727272728,0.03636363636363636,0.036515151515151514,0.038636363636363635,0.045454545454545456,0.045454545454545456,0.045454545454545456,0.04560606060606061,0.045454545454545456,0.15045454545454548,0.10440340909090909,0.06531645569620254,0.045804195804195806,0.03888888888888889,0.02867965367965368,0.025,0.02622950819672131,0.030555555555555555,0.034992887624466576,0.036666666666666674,0.032424242424242425,0.03106060606060606,0.03636363636363636,0.03681818181818182],\"type\":\"scatter\"},{\"hovertemplate\":\"<b>offices - govtoffice</b><br>Hour: {x}<br>TVOC: {y:.2f} ppm<extra></extra>\",\"legendgroup\":\"offices\",\"marker\":{\"size\":10,\"symbol\":\"square\"},\"mode\":\"lines+markers\",\"name\":\"offices - govtoffice\",\"x\":[0,1,2,3,4,5,6,7,8,9,10,11,12,13,14,15,16,17,18,19,20,21,22,23],\"y\":[0.046470588235294125,0.047058823529411764,0.046960784313725495,0.046470588235294125,0.044803921568627454,0.045784313725490196,0.04519607843137255,0.04735294117647059,0.04696823869104909,0.0950596252129472,0.062534435261708,0.05691699604743083,0.15347368421052632,0.09273333333333333,0.1046831955922865,0.29537366548042704,0.3077531966714025,0.30438524590163935,0.3105661965901915,0.1443609022556391,0.026574074074074076,0.03212962962962963,0.03771593090211133,0.041176470588235294],\"type\":\"scatter\"},{\"hovertemplate\":\"<b>offices - pvtoffice</b><br>Hour: {x}<br>TVOC: {y:.2f} ppm<extra></extra>\",\"legendgroup\":\"offices\",\"marker\":{\"size\":10,\"symbol\":\"square\"},\"mode\":\"lines+markers\",\"name\":\"offices - pvtoffice\",\"x\":[0,1,2,3,4,5,6,7,8,9,10,11,12,13,14,15,16,17,18,19,20,21,22,23],\"y\":[0.1503921568627451,0.1493137254901961,0.14872549019607845,0.14553483807654563,0.14911591355599216,0.15637254901960784,0.1615686274509804,0.325,0.20333333333333334,0.14941176470588236,0.12490196078431373,0.16033834586466164,0.22110927152317883,0.22145110410094637,0.16385826771653542,0.25700325732899026,0.21850564726324934,0.14561717352415024,0.07024952015355086,0.06931372549019608,0.07,0.08676470588235294,0.11470588235294117,0.13823529411764707],\"type\":\"scatter\"},{\"hovertemplate\":\"<b>residences - hig</b><br>Hour: {x}<br>TVOC: {y:.2f} ppm<extra></extra>\",\"legendgroup\":\"residences\",\"marker\":{\"size\":10,\"symbol\":\"diamond\"},\"mode\":\"lines+markers\",\"name\":\"residences - hig\",\"x\":[0,1,2,3,4,5,6,7,8,9,10,11,12,13,14,15,16,17,18,19,20,21,22,23],\"y\":[0.034375,0.036388888888888894,0.036944444444444446,0.03652777777777778,0.02868055555555556,0.03104166666666667,0.03958333333333333,0.06756944444444445,0.026180555555555558,0.009160839160839162,0.007681159420289855,0.0072254335260115606,0.011849710982658959,0.008763897972531066,0.007044025157232705,0.0011890606420927466,0.0004920049200492005,0.0009876543209876543,0.006611039794608473,0.0444076770350761,0.04685754189944134,0.05701388888888889,0.043680555555555556,0.043819444444444446],\"type\":\"scatter\"},{\"hovertemplate\":\"<b>residences - ligews</b><br>Hour: {x}<br>TVOC: {y:.2f} ppm<extra></extra>\",\"legendgroup\":\"residences\",\"marker\":{\"size\":10,\"symbol\":\"diamond\"},\"mode\":\"lines+markers\",\"name\":\"residences - ligews\",\"x\":[0,1,2,3,4,5,6,7,8,9,10,11,12,13,14,15,16,17,18,19,20,21,22,23],\"y\":[0.2380125,0.23486944444444444,0.25009305555555555,0.26008472222222223,0.26132777777777777,0.2675486111111111,0.17354583333333334,0.1498861111111111,0.12637777777777778,0.159225,0.09622638888888889,0.09813899613899614,0.0989985938598547,0.09392653155228006,0.0582010485525416,0.008896205357142858,0.009012600229095075,1.1661125570776256,0.10983242009132421,0.13067917829064166,0.0982078431372549,0.08288888888888889,0.09817916666666668,0.16432222222222223],\"type\":\"scatter\"},{\"hovertemplate\":\"<b>residences - mig</b><br>Hour: {x}<br>TVOC: {y:.2f} ppm<extra></extra>\",\"legendgroup\":\"residences\",\"marker\":{\"size\":10,\"symbol\":\"diamond\"},\"mode\":\"lines+markers\",\"name\":\"residences - mig\",\"x\":[0,1,2,3,4,5,6,7,8,9,10,11,12,13,14,15,16,17,18,19,20,21,22,23],\"y\":[0.13564237599510104,0.1396235004613965,0.15739727272727272,0.16525424757281554,0.1719885802469136,0.16800839291265152,0.15210944957047406,0.12256525911708253,0.0804425412644036,0.06064450686641698,0.06942263918794217,0.04899276236429433,0.045784957914743414,0.05261499867969369,0.050708909370199694,0.05393431812186758,0.06249577226606539,0.07414285714285715,0.05739219798657719,0.07529766368618403,0.08036626227614097,0.09601488095238096,0.10867053571428571,0.12070251438957892],\"type\":\"scatter\"},{\"hovertemplate\":\"<b>restaurantandeateries - acrestaurant</b><br>Hour: {x}<br>TVOC: {y:.2f} ppm<extra></extra>\",\"legendgroup\":\"restaurantandeateries\",\"marker\":{\"size\":10,\"symbol\":\"cross\"},\"mode\":\"lines+markers\",\"name\":\"restaurantandeateries - acrestaurant\",\"x\":[0,1,2,3,4,5,6,7,8,9,10,11,12,13,14,15,16,17,18,19,20,21,22,23],\"y\":[0.5190369047619048,0.3665786802030457,0.42227820512820513,0.5236999999999999,0.6170166666666667,0.7259846153846155,0.7924480431848854,0.8131818181818182,0.7898484848484848,0.4488023952095809,0.20254110612855009,0.13666666666666666,0.09012875536480687,0.09479289940828403,0.13492239467849224,0.16421173762945915,0.13351063829787235,0.6857894736842106,0.9777918781725888,0.38878378378378375,0.25527777777777777,0.2391666666666667,0.24319444444444444,0.8692168978562421],\"type\":\"scatter\"},{\"hovertemplate\":\"<b>restaurantandeateries - nonacrestaurant</b><br>Hour: {x}<br>TVOC: {y:.2f} ppm<extra></extra>\",\"legendgroup\":\"restaurantandeateries\",\"marker\":{\"size\":10,\"symbol\":\"cross\"},\"mode\":\"lines+markers\",\"name\":\"restaurantandeateries - nonacrestaurant\",\"x\":[0,1,2,3,4,5,6,7,8,9,10,11,12,13,14,15,16,17,18,19,20,21,22,23],\"y\":[0.08666666666666667,0.07791666666666666,0.08166666666666668,0.075,0.07416666666666667,0.0625,0.07270833333333333,0.08020833333333334,0.07729166666666668,0.07625,0.11375,0.10531468531468531,0.10097222222222223,0.0916452442159383,0.1004267425320057,0.09381818181818181,0.08277777777777778,0.0938888888888889,0.10537037037037038,0.10648148148148148,0.11166666666666668,0.0883424408014572,0.08767967145790555,0.09833333333333334],\"type\":\"scatter\"},{\"hovertemplate\":\"<b>school - ac</b><br>Hour: {x}<br>TVOC: {y:.2f} ppm<extra></extra>\",\"legendgroup\":\"school\",\"marker\":{\"size\":10,\"symbol\":\"x\"},\"mode\":\"lines+markers\",\"name\":\"school - ac\",\"x\":[0,1,2,3,4,5,6,7,8,9,10,11,12,13,14,15,16,17,18,19,20,21,22,23],\"y\":[0.0,0.0,0.0,0.0,0.0,0.0,0.0,0.035,0.19583333333333333,0.08489208633093526,0.1,0.14777777777777779,0.10166666666666667,0.0,0.030555555555555555,0.023333333333333334,0.061870503597122296,0.0033333333333333335,0.0,0.0,0.0,0.0,0.0,0.0],\"type\":\"scatter\"},{\"hovertemplate\":\"<b>school - nonac</b><br>Hour: {x}<br>TVOC: {y:.2f} ppm<extra></extra>\",\"legendgroup\":\"school\",\"marker\":{\"size\":10,\"symbol\":\"x\"},\"mode\":\"lines+markers\",\"name\":\"school - nonac\",\"x\":[0,1,2,3,4,5,6,7,8,9,10,11,12,13,14,15,16,17,18,19,20,21,22,23],\"y\":[0.024583333333333336,0.005833333333333334,0.0,0.016666666666666666,0.013333333333333334,0.0,0.0,0.0,0.018777292576419212,0.03791666666666667,0.042320819112627986,0.03978494623655914,0.04875,0.04791666666666667,0.025833333333333333,0.0037500000000000003,0.0004385964912280702,0.0,0.0,0.0,0.0,0.0004166666666666667,0.007500000000000001,0.010833333333333334],\"type\":\"scatter\"},{\"hovertemplate\":\"<b>shoppingmall - plotbetween500to5000</b><br>Hour: {x}<br>TVOC: {y:.2f} ppm<extra></extra>\",\"legendgroup\":\"shoppingmall\",\"marker\":{\"size\":10,\"symbol\":\"triangle-up\"},\"mode\":\"lines+markers\",\"name\":\"shoppingmall - plotbetween500to5000\",\"x\":[8,9,10,11,12,13,14,15,16,17,18,19,20],\"y\":[0.0,0.0,0.0,0.036065573770491806,0.0006666666666666668,0.0,0.0006666666666666668,0.0,0.0,0.0,0.0,0.0,0.0],\"type\":\"scatter\"},{\"hovertemplate\":\"<b>shoppingmall - plotgreaterthan5000</b><br>Hour: {x}<br>TVOC: {y:.2f} ppm<extra></extra>\",\"legendgroup\":\"shoppingmall\",\"marker\":{\"size\":10,\"symbol\":\"triangle-up\"},\"mode\":\"lines+markers\",\"name\":\"shoppingmall - plotgreaterthan5000\",\"x\":[0,1,2,3,4,5,6,7,8,9,10,11,12,13,14,15,16,17,18,19,20,21,22,23],\"y\":[0.14653666666666665,0.1789416666666667,0.23141333333333336,0.28926166666666664,0.307275,0.31122500000000003,0.29125,0.27166666666666667,0.235535,0.21672833333333336,0.21117520661157024,0.2806070422535211,0.2620512820512821,0.19807692307692307,0.17576923076923076,0.15451030927835052,0.1358592692828146,0.11826633785450062,0.09533655172413794,0.08641857142857143,0.06044186046511628,0.06434,0.05228833333333333,0.12423666666666668],\"type\":\"scatter\"},{\"hovertemplate\":\"<b>shoppingmall - plotlessthan500</b><br>Hour: {x}<br>TVOC: {y:.2f} ppm<extra></extra>\",\"legendgroup\":\"shoppingmall\",\"marker\":{\"size\":10,\"symbol\":\"triangle-up\"},\"mode\":\"lines+markers\",\"name\":\"shoppingmall - plotlessthan500\",\"x\":[0,1,2,3,4,5,6,7,8,9,10,11,12,13,14,15,16,17,18,19,20,21,22,23],\"y\":[0.1390666666666667,0.1404041666666667,0.13474166666666668,0.1109,0.10904583333333333,0.110275,0.1109875,0.12004583333333334,0.14199166666666668,0.3012458333333334,0.3720168776371308,0.19412916666666666,0.16706666666666667,0.1603576923076923,0.15107100591715977,0.12856944444444446,0.09943343653250776,0.11445934959349593,0.11417083333333333,0.10844166666666667,0.11887916666666667,0.12524583333333333,0.12621666666666667,0.12899583333333334],\"type\":\"scatter\"}],                        {\"template\":{\"data\":{\"histogram2dcontour\":[{\"type\":\"histogram2dcontour\",\"colorbar\":{\"outlinewidth\":0,\"ticks\":\"\"},\"colorscale\":[[0.0,\"#0d0887\"],[0.1111111111111111,\"#46039f\"],[0.2222222222222222,\"#7201a8\"],[0.3333333333333333,\"#9c179e\"],[0.4444444444444444,\"#bd3786\"],[0.5555555555555556,\"#d8576b\"],[0.6666666666666666,\"#ed7953\"],[0.7777777777777778,\"#fb9f3a\"],[0.8888888888888888,\"#fdca26\"],[1.0,\"#f0f921\"]]}],\"choropleth\":[{\"type\":\"choropleth\",\"colorbar\":{\"outlinewidth\":0,\"ticks\":\"\"}}],\"histogram2d\":[{\"type\":\"histogram2d\",\"colorbar\":{\"outlinewidth\":0,\"ticks\":\"\"},\"colorscale\":[[0.0,\"#0d0887\"],[0.1111111111111111,\"#46039f\"],[0.2222222222222222,\"#7201a8\"],[0.3333333333333333,\"#9c179e\"],[0.4444444444444444,\"#bd3786\"],[0.5555555555555556,\"#d8576b\"],[0.6666666666666666,\"#ed7953\"],[0.7777777777777778,\"#fb9f3a\"],[0.8888888888888888,\"#fdca26\"],[1.0,\"#f0f921\"]]}],\"heatmap\":[{\"type\":\"heatmap\",\"colorbar\":{\"outlinewidth\":0,\"ticks\":\"\"},\"colorscale\":[[0.0,\"#0d0887\"],[0.1111111111111111,\"#46039f\"],[0.2222222222222222,\"#7201a8\"],[0.3333333333333333,\"#9c179e\"],[0.4444444444444444,\"#bd3786\"],[0.5555555555555556,\"#d8576b\"],[0.6666666666666666,\"#ed7953\"],[0.7777777777777778,\"#fb9f3a\"],[0.8888888888888888,\"#fdca26\"],[1.0,\"#f0f921\"]]}],\"heatmapgl\":[{\"type\":\"heatmapgl\",\"colorbar\":{\"outlinewidth\":0,\"ticks\":\"\"},\"colorscale\":[[0.0,\"#0d0887\"],[0.1111111111111111,\"#46039f\"],[0.2222222222222222,\"#7201a8\"],[0.3333333333333333,\"#9c179e\"],[0.4444444444444444,\"#bd3786\"],[0.5555555555555556,\"#d8576b\"],[0.6666666666666666,\"#ed7953\"],[0.7777777777777778,\"#fb9f3a\"],[0.8888888888888888,\"#fdca26\"],[1.0,\"#f0f921\"]]}],\"contourcarpet\":[{\"type\":\"contourcarpet\",\"colorbar\":{\"outlinewidth\":0,\"ticks\":\"\"}}],\"contour\":[{\"type\":\"contour\",\"colorbar\":{\"outlinewidth\":0,\"ticks\":\"\"},\"colorscale\":[[0.0,\"#0d0887\"],[0.1111111111111111,\"#46039f\"],[0.2222222222222222,\"#7201a8\"],[0.3333333333333333,\"#9c179e\"],[0.4444444444444444,\"#bd3786\"],[0.5555555555555556,\"#d8576b\"],[0.6666666666666666,\"#ed7953\"],[0.7777777777777778,\"#fb9f3a\"],[0.8888888888888888,\"#fdca26\"],[1.0,\"#f0f921\"]]}],\"surface\":[{\"type\":\"surface\",\"colorbar\":{\"outlinewidth\":0,\"ticks\":\"\"},\"colorscale\":[[0.0,\"#0d0887\"],[0.1111111111111111,\"#46039f\"],[0.2222222222222222,\"#7201a8\"],[0.3333333333333333,\"#9c179e\"],[0.4444444444444444,\"#bd3786\"],[0.5555555555555556,\"#d8576b\"],[0.6666666666666666,\"#ed7953\"],[0.7777777777777778,\"#fb9f3a\"],[0.8888888888888888,\"#fdca26\"],[1.0,\"#f0f921\"]]}],\"mesh3d\":[{\"type\":\"mesh3d\",\"colorbar\":{\"outlinewidth\":0,\"ticks\":\"\"}}],\"scatter\":[{\"fillpattern\":{\"fillmode\":\"overlay\",\"size\":10,\"solidity\":0.2},\"type\":\"scatter\"}],\"parcoords\":[{\"type\":\"parcoords\",\"line\":{\"colorbar\":{\"outlinewidth\":0,\"ticks\":\"\"}}}],\"scatterpolargl\":[{\"type\":\"scatterpolargl\",\"marker\":{\"colorbar\":{\"outlinewidth\":0,\"ticks\":\"\"}}}],\"bar\":[{\"error_x\":{\"color\":\"#2a3f5f\"},\"error_y\":{\"color\":\"#2a3f5f\"},\"marker\":{\"line\":{\"color\":\"#E5ECF6\",\"width\":0.5},\"pattern\":{\"fillmode\":\"overlay\",\"size\":10,\"solidity\":0.2}},\"type\":\"bar\"}],\"scattergeo\":[{\"type\":\"scattergeo\",\"marker\":{\"colorbar\":{\"outlinewidth\":0,\"ticks\":\"\"}}}],\"scatterpolar\":[{\"type\":\"scatterpolar\",\"marker\":{\"colorbar\":{\"outlinewidth\":0,\"ticks\":\"\"}}}],\"histogram\":[{\"marker\":{\"pattern\":{\"fillmode\":\"overlay\",\"size\":10,\"solidity\":0.2}},\"type\":\"histogram\"}],\"scattergl\":[{\"type\":\"scattergl\",\"marker\":{\"colorbar\":{\"outlinewidth\":0,\"ticks\":\"\"}}}],\"scatter3d\":[{\"type\":\"scatter3d\",\"line\":{\"colorbar\":{\"outlinewidth\":0,\"ticks\":\"\"}},\"marker\":{\"colorbar\":{\"outlinewidth\":0,\"ticks\":\"\"}}}],\"scattermapbox\":[{\"type\":\"scattermapbox\",\"marker\":{\"colorbar\":{\"outlinewidth\":0,\"ticks\":\"\"}}}],\"scatterternary\":[{\"type\":\"scatterternary\",\"marker\":{\"colorbar\":{\"outlinewidth\":0,\"ticks\":\"\"}}}],\"scattercarpet\":[{\"type\":\"scattercarpet\",\"marker\":{\"colorbar\":{\"outlinewidth\":0,\"ticks\":\"\"}}}],\"carpet\":[{\"aaxis\":{\"endlinecolor\":\"#2a3f5f\",\"gridcolor\":\"white\",\"linecolor\":\"white\",\"minorgridcolor\":\"white\",\"startlinecolor\":\"#2a3f5f\"},\"baxis\":{\"endlinecolor\":\"#2a3f5f\",\"gridcolor\":\"white\",\"linecolor\":\"white\",\"minorgridcolor\":\"white\",\"startlinecolor\":\"#2a3f5f\"},\"type\":\"carpet\"}],\"table\":[{\"cells\":{\"fill\":{\"color\":\"#EBF0F8\"},\"line\":{\"color\":\"white\"}},\"header\":{\"fill\":{\"color\":\"#C8D4E3\"},\"line\":{\"color\":\"white\"}},\"type\":\"table\"}],\"barpolar\":[{\"marker\":{\"line\":{\"color\":\"#E5ECF6\",\"width\":0.5},\"pattern\":{\"fillmode\":\"overlay\",\"size\":10,\"solidity\":0.2}},\"type\":\"barpolar\"}],\"pie\":[{\"automargin\":true,\"type\":\"pie\"}]},\"layout\":{\"autotypenumbers\":\"strict\",\"colorway\":[\"#636efa\",\"#EF553B\",\"#00cc96\",\"#ab63fa\",\"#FFA15A\",\"#19d3f3\",\"#FF6692\",\"#B6E880\",\"#FF97FF\",\"#FECB52\"],\"font\":{\"color\":\"#2a3f5f\"},\"hovermode\":\"closest\",\"hoverlabel\":{\"align\":\"left\"},\"paper_bgcolor\":\"white\",\"plot_bgcolor\":\"#E5ECF6\",\"polar\":{\"bgcolor\":\"#E5ECF6\",\"angularaxis\":{\"gridcolor\":\"white\",\"linecolor\":\"white\",\"ticks\":\"\"},\"radialaxis\":{\"gridcolor\":\"white\",\"linecolor\":\"white\",\"ticks\":\"\"}},\"ternary\":{\"bgcolor\":\"#E5ECF6\",\"aaxis\":{\"gridcolor\":\"white\",\"linecolor\":\"white\",\"ticks\":\"\"},\"baxis\":{\"gridcolor\":\"white\",\"linecolor\":\"white\",\"ticks\":\"\"},\"caxis\":{\"gridcolor\":\"white\",\"linecolor\":\"white\",\"ticks\":\"\"}},\"coloraxis\":{\"colorbar\":{\"outlinewidth\":0,\"ticks\":\"\"}},\"colorscale\":{\"sequential\":[[0.0,\"#0d0887\"],[0.1111111111111111,\"#46039f\"],[0.2222222222222222,\"#7201a8\"],[0.3333333333333333,\"#9c179e\"],[0.4444444444444444,\"#bd3786\"],[0.5555555555555556,\"#d8576b\"],[0.6666666666666666,\"#ed7953\"],[0.7777777777777778,\"#fb9f3a\"],[0.8888888888888888,\"#fdca26\"],[1.0,\"#f0f921\"]],\"sequentialminus\":[[0.0,\"#0d0887\"],[0.1111111111111111,\"#46039f\"],[0.2222222222222222,\"#7201a8\"],[0.3333333333333333,\"#9c179e\"],[0.4444444444444444,\"#bd3786\"],[0.5555555555555556,\"#d8576b\"],[0.6666666666666666,\"#ed7953\"],[0.7777777777777778,\"#fb9f3a\"],[0.8888888888888888,\"#fdca26\"],[1.0,\"#f0f921\"]],\"diverging\":[[0,\"#8e0152\"],[0.1,\"#c51b7d\"],[0.2,\"#de77ae\"],[0.3,\"#f1b6da\"],[0.4,\"#fde0ef\"],[0.5,\"#f7f7f7\"],[0.6,\"#e6f5d0\"],[0.7,\"#b8e186\"],[0.8,\"#7fbc41\"],[0.9,\"#4d9221\"],[1,\"#276419\"]]},\"xaxis\":{\"gridcolor\":\"white\",\"linecolor\":\"white\",\"ticks\":\"\",\"title\":{\"standoff\":15},\"zerolinecolor\":\"white\",\"automargin\":true,\"zerolinewidth\":2},\"yaxis\":{\"gridcolor\":\"white\",\"linecolor\":\"white\",\"ticks\":\"\",\"title\":{\"standoff\":15},\"zerolinecolor\":\"white\",\"automargin\":true,\"zerolinewidth\":2},\"scene\":{\"xaxis\":{\"backgroundcolor\":\"#E5ECF6\",\"gridcolor\":\"white\",\"linecolor\":\"white\",\"showbackground\":true,\"ticks\":\"\",\"zerolinecolor\":\"white\",\"gridwidth\":2},\"yaxis\":{\"backgroundcolor\":\"#E5ECF6\",\"gridcolor\":\"white\",\"linecolor\":\"white\",\"showbackground\":true,\"ticks\":\"\",\"zerolinecolor\":\"white\",\"gridwidth\":2},\"zaxis\":{\"backgroundcolor\":\"#E5ECF6\",\"gridcolor\":\"white\",\"linecolor\":\"white\",\"showbackground\":true,\"ticks\":\"\",\"zerolinecolor\":\"white\",\"gridwidth\":2}},\"shapedefaults\":{\"line\":{\"color\":\"#2a3f5f\"}},\"annotationdefaults\":{\"arrowcolor\":\"#2a3f5f\",\"arrowhead\":0,\"arrowwidth\":1},\"geo\":{\"bgcolor\":\"white\",\"landcolor\":\"#E5ECF6\",\"subunitcolor\":\"white\",\"showland\":true,\"showlakes\":true,\"lakecolor\":\"white\"},\"title\":{\"x\":0.05},\"mapbox\":{\"style\":\"light\"}}},\"updatemenus\":[{\"active\":0,\"buttons\":[{\"args\":[{\"visible\":[true,true,true,true,true,true,true,true,true,true,true,true,true,true,true]},{\"title\":\"All Categories and Sub Categories\"}],\"label\":\"All\",\"method\":\"update\"},{\"args\":[{\"visible\":[true,true,false,false,false,false,false,false,false,false,false,false,false,false,false]},{\"title\":\"cinemahall - Sub Categories\"}],\"label\":\"cinemahall\",\"method\":\"update\"},{\"args\":[{\"visible\":[false,false,true,true,true,false,false,false,false,false,false,false,false,false,false]},{\"title\":\"offices - Sub Categories\"}],\"label\":\"offices\",\"method\":\"update\"},{\"args\":[{\"visible\":[false,false,false,false,false,true,true,true,false,false,false,false,false,false,false]},{\"title\":\"residences - Sub Categories\"}],\"label\":\"residences\",\"method\":\"update\"},{\"args\":[{\"visible\":[false,false,false,false,false,false,false,false,true,true,false,false,false,false,false]},{\"title\":\"restaurantandeateries - Sub Categories\"}],\"label\":\"restaurantandeateries\",\"method\":\"update\"},{\"args\":[{\"visible\":[false,false,false,false,false,false,false,false,false,false,true,true,false,false,false]},{\"title\":\"school - Sub Categories\"}],\"label\":\"school\",\"method\":\"update\"},{\"args\":[{\"visible\":[false,false,false,false,false,false,false,false,false,false,false,false,true,true,true]},{\"title\":\"shoppingmall - Sub Categories\"}],\"label\":\"shoppingmall\",\"method\":\"update\"}],\"x\":1.15,\"xanchor\":\"right\",\"y\":1.15,\"yanchor\":\"top\"}],\"xaxis\":{\"title\":{\"text\":\"Hour of the Day\"},\"tickmode\":\"linear\",\"dtick\":1,\"showgrid\":true,\"gridwidth\":1,\"gridcolor\":\"lightgray\"},\"font\":{\"size\":14},\"title\":{\"text\":\"Hourly Average TVOC Concentration by Category and Sub Category\",\"font\":{\"size\":20,\"color\":\"darkblue\"}},\"legend\":{\"title\":{\"text\":\"Categories and Sub Categories\",\"font\":{\"size\":16,\"color\":\"darkblue\"}},\"font\":{\"size\":14}},\"margin\":{\"l\":40,\"r\":40,\"t\":80,\"b\":40},\"yaxis\":{\"title\":{\"text\":\"Average TVOC Concentration (ppm)\"},\"showgrid\":true,\"gridwidth\":1,\"gridcolor\":\"lightgray\"},\"showlegend\":true,\"plot_bgcolor\":\"white\",\"paper_bgcolor\":\"white\",\"hovermode\":\"closest\"},                        {\"responsive\": true}                    ).then(function(){\n",
       "                            \n",
       "var gd = document.getElementById('f8491202-656f-4f30-b342-188093035504');\n",
       "var x = new MutationObserver(function (mutations, observer) {{\n",
       "        var display = window.getComputedStyle(gd).display;\n",
       "        if (!display || display === 'none') {{\n",
       "            console.log([gd, 'removed!']);\n",
       "            Plotly.purge(gd);\n",
       "            observer.disconnect();\n",
       "        }}\n",
       "}});\n",
       "\n",
       "// Listen for the removal of the full notebook cells\n",
       "var notebookContainer = gd.closest('#notebook-container');\n",
       "if (notebookContainer) {{\n",
       "    x.observe(notebookContainer, {childList: true});\n",
       "}}\n",
       "\n",
       "// Listen for the clearing of the current output cell\n",
       "var outputEl = gd.closest('.output');\n",
       "if (outputEl) {{\n",
       "    x.observe(outputEl, {childList: true});\n",
       "}}\n",
       "\n",
       "                        })                };                });            </script>        </div>"
      ]
     },
     "metadata": {},
     "output_type": "display_data"
    }
   ],
   "source": [
    "import pandas as pd\n",
    "import plotly.graph_objects as go\n",
    "import plotly.express as px\n",
    "\n",
    "\n",
    "file_path = 'Desktop/IAQ_Master_file/Master_File_TVOC.xlsx'  \n",
    "df = pd.read_excel(file_path, sheet_name='tvoc_2')\n",
    "\n",
    "\n",
    "df['tvoc'] = pd.to_numeric(df['tvoc'], errors='coerce') # Convert 'tvoc' column to numeric, forcing errors to NaN\n",
    "\n",
    "\n",
    "df = df.dropna(subset=['category', 'sub_category', 'tvoc', 'date_time']) # dropping rows with NaN values in relevant columns\n",
    "\n",
    "\n",
    "df['date_time'] = pd.to_datetime(df['date_time'], errors='coerce')\n",
    "df = df.dropna(subset=['date_time'])\n",
    "\n",
    "\n",
    "df['hour'] = df['date_time'].dt.hour\n",
    "\n",
    "\n",
    "hourly_avg = df.groupby(['category', 'sub_category', 'hour'])['tvoc'].mean().reset_index()\n",
    "\n",
    "\n",
    "fig = go.Figure() #  interactive plot\n",
    "\n",
    "# Get unique categories and sub_categories\n",
    "categories = hourly_avg['category'].unique()\n",
    "sub_categories = hourly_avg['sub_category'].unique()\n",
    "\n",
    "\n",
    "marker_symbols = ['circle', 'square', 'diamond', 'cross', 'x', 'triangle-up', 'triangle-down', 'triangle-left', 'triangle-right']\n",
    "\n",
    "# line plot for each sub_category within each category\n",
    "for category in categories:\n",
    "    for sub_category in sub_categories:\n",
    "        sub_category_data = hourly_avg[(hourly_avg['category'] == category) & (hourly_avg['sub_category'] == sub_category)]\n",
    "        if not sub_category_data.empty:\n",
    "            fig.add_trace(go.Scatter(\n",
    "                x=sub_category_data['hour'],\n",
    "                y=sub_category_data['tvoc'],\n",
    "                mode='lines+markers',\n",
    "                name=f'{category} - {sub_category}',\n",
    "                legendgroup=category,\n",
    "                marker=dict(symbol=marker_symbols[categories.tolist().index(category) % len(marker_symbols)], size=10),\n",
    "                hovertemplate=f'<b>{category} - {sub_category}</b><br>Hour: {{x}}<br>TVOC: {{y:.2f}} ppm<extra></extra>'\n",
    "            ))\n",
    "\n",
    "# dropdown menus for interactive filtering\n",
    "dropdown_buttons = [\n",
    "    dict(label=\"All\",\n",
    "         method=\"update\",\n",
    "         args=[{\"visible\": [True] * len(fig.data)},\n",
    "               {\"title\": \"All Categories and Sub Categories\"}]),\n",
    "]\n",
    "\n",
    "for category in categories:\n",
    "    visible = [trace.name.startswith(category) for trace in fig.data]\n",
    "    dropdown_buttons.append(\n",
    "        dict(label=category,\n",
    "             method=\"update\",\n",
    "             args=[{\"visible\": visible},\n",
    "                   {\"title\": f\"{category} - Sub Categories\"}])\n",
    "    )\n",
    "\n",
    "fig.update_layout(\n",
    "    updatemenus=[\n",
    "        dict(\n",
    "            active=0,\n",
    "            buttons=dropdown_buttons,\n",
    "            x=1.15,\n",
    "            xanchor='right',\n",
    "            y=1.15,\n",
    "            yanchor='top'\n",
    "        )\n",
    "    ]\n",
    ")\n",
    "\n",
    "# Aesthetics\n",
    "fig.update_layout(\n",
    "    title='Hourly Average TVOC Concentration by Category and Sub Category',\n",
    "    xaxis_title='Hour of the Day',\n",
    "    yaxis_title='Average TVOC Concentration (ppm)',\n",
    "    xaxis=dict(tickmode='linear', dtick=1),  # Set x-axis ticks from 0 to 23\n",
    "    showlegend=True,\n",
    "    plot_bgcolor='white',  # Set plot background to white\n",
    "    paper_bgcolor='white',  # Set paper background to white\n",
    "    font=dict(size=14),\n",
    "    title_font=dict(size=20, color='darkblue'),\n",
    "    legend=dict(\n",
    "        title='Categories and Sub Categories',\n",
    "        title_font=dict(size=16, color='darkblue'),\n",
    "        font=dict(size=14),\n",
    "    ),\n",
    "    margin=dict(l=40, r=40, t=80, b=40),  # Adjust margins\n",
    "    hovermode='closest'  # Enhance hover interaction\n",
    ")\n",
    "\n",
    "# gridlines and make the plot visually appealing\n",
    "fig.update_xaxes(showgrid=True, gridwidth=1, gridcolor='lightgray')\n",
    "fig.update_yaxes(showgrid=True, gridwidth=1, gridcolor='lightgray')\n",
    "\n",
    "\n",
    "fig.show()\n",
    "\n",
    "\n",
    "fig.write_html('hourly_avg_tvoc_by_category_sub_category3.html')\n",
    "\n",
    "\n",
    "fig.write_image('hourly_avg_tvoc_by_category_sub_category3.png')"
   ]
  },
  {
   "cell_type": "code",
   "execution_count": null,
   "id": "49eba1f1-ace5-47bc-a483-fb43ad857688",
   "metadata": {},
   "outputs": [],
   "source": []
  }
 ],
 "metadata": {
  "kernelspec": {
   "display_name": "Python 3 (ipykernel)",
   "language": "python",
   "name": "python3"
  },
  "language_info": {
   "codemirror_mode": {
    "name": "ipython",
    "version": 3
   },
   "file_extension": ".py",
   "mimetype": "text/x-python",
   "name": "python",
   "nbconvert_exporter": "python",
   "pygments_lexer": "ipython3",
   "version": "3.11.7"
  }
 },
 "nbformat": 4,
 "nbformat_minor": 5
}
