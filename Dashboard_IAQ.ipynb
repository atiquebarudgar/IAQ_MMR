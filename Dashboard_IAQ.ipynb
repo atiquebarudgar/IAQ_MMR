{
 "cells": [
  {
   "cell_type": "code",
   "execution_count": 1,
   "id": "cdb06f87-8840-4165-9b3f-ce386b1597b7",
   "metadata": {},
   "outputs": [
    {
     "name": "stderr",
     "output_type": "stream",
     "text": [
      "C:\\Users\\Atique\\AppData\\Local\\Temp\\ipykernel_10660\\3815688811.py:13: UserWarning: Parsing dates in %d/%m/%Y %H:%M:%S format when dayfirst=False (the default) was specified. Pass `dayfirst=True` or specify a format to silence this warning.\n",
      "  df['date_time'] = pd.to_datetime(df['date_time'], errors='coerce')\n"
     ]
    },
    {
     "name": "stdout",
     "output_type": "stream",
     "text": [
      "Hourly Average DataFrame:\n",
      "     category  sub_category  hour      tvoc\n",
      "0  cinemahall  singlescreen     0  0.018421\n",
      "1  cinemahall  singlescreen     1  0.018643\n",
      "2  cinemahall  singlescreen     2  0.018223\n",
      "3  cinemahall  singlescreen     3  0.018317\n",
      "4  cinemahall  singlescreen     4  0.019453\n"
     ]
    },
    {
     "data": {
      "text/html": [
       "\n",
       "        <iframe\n",
       "            width=\"100%\"\n",
       "            height=\"650\"\n",
       "            src=\"http://127.0.0.1:8050/\"\n",
       "            frameborder=\"0\"\n",
       "            allowfullscreen\n",
       "            \n",
       "        ></iframe>\n",
       "        "
      ],
      "text/plain": [
       "<IPython.lib.display.IFrame at 0x1b645e83d10>"
      ]
     },
     "metadata": {},
     "output_type": "display_data"
    }
   ],
   "source": [
    "import pandas as pd\n",
    "import plotly.express as px\n",
    "from dash import Dash, dcc, html, Input, Output\n",
    "\n",
    "\n",
    "file_path = 'Desktop/IAQ_Master_file/Master_File_TVOC.xlsx'  \n",
    "df = pd.read_excel(file_path, sheet_name='tvoc_2')\n",
    "\n",
    "\n",
    "df = df.dropna(subset=['category', 'sub_category', 'tvoc', 'date_time'])\n",
    "\n",
    "\n",
    "df['date_time'] = pd.to_datetime(df['date_time'], errors='coerce')\n",
    "df = df.dropna(subset=['date_time'])\n",
    "\n",
    "df['tvoc'] = pd.to_numeric(df['tvoc'], errors='coerce')\n",
    "\n",
    "\n",
    "df['hour'] = df['date_time'].dt.hour\n",
    "\n",
    "\n",
    "hourly_avg = df.groupby(['category', 'sub_category', 'hour'])['tvoc'].mean().reset_index()\n",
    "\n",
    "# debugging: Print the first few rows of hourly_avg\n",
    "print(\"Hourly Average DataFrame:\")\n",
    "print(hourly_avg.head())\n",
    "\n",
    "# Dash application\n",
    "app = Dash(__name__)\n",
    "\n",
    "# layout of the app\n",
    "app.layout = html.Div([\n",
    "    html.H1('TVOC Concentration Dashboard', style={'text-align': 'center'}),\n",
    "    dcc.Dropdown(\n",
    "        id='category-dropdown',\n",
    "        options=[{'label': cat, 'value': cat} for cat in hourly_avg['category'].unique()],\n",
    "        value=hourly_avg['category'].unique()[0],\n",
    "        style={'width': '50%', 'margin': 'auto'}\n",
    "    ),\n",
    "    dcc.Graph(id='tvoc-graph')\n",
    "])\n",
    "\n",
    "# Define callback to update graph\n",
    "@app.callback(\n",
    "    Output('tvoc-graph', 'figure'),\n",
    "    [Input('category-dropdown', 'value')]\n",
    ")\n",
    "def update_graph(selected_category):\n",
    "    filtered_df = hourly_avg[hourly_avg['category'] == selected_category]\n",
    "    \n",
    "    # Debugging: Print the filtered dataframe\n",
    "    print(f\"Filtered DataFrame for category {selected_category}:\")\n",
    "    print(filtered_df.head())\n",
    "    \n",
    "    fig = px.line(filtered_df, x='hour', y='tvoc', color='sub_category', markers=True,\n",
    "                  title=f'Hourly Average TVOC Concentration for {selected_category}',\n",
    "                  labels={'hour': 'Hour of the Day', 'tvoc': 'Average TVOC (ppm)'})\n",
    "    fig.update_layout(\n",
    "        template='plotly_white',\n",
    "        xaxis=dict(tickmode='linear', tick0=0, dtick=1),  # Display all hours from 0 to 23\n",
    "        yaxis=dict(rangemode='tozero'),  # Ensure y-axis starts from zero\n",
    "        margin=dict(l=40, r=40, t=40, b=40),\n",
    "        title_x=0.5\n",
    "    )\n",
    "    return fig\n",
    "\n",
    "\n",
    "if __name__ == '__main__': # Run the app\n",
    "    app.run_server(debug=True)"
   ]
  },
  {
   "cell_type": "code",
   "execution_count": null,
   "id": "81f7de3a-ddd6-4c08-a57f-ba3cd092a9ef",
   "metadata": {},
   "outputs": [],
   "source": []
  }
 ],
 "metadata": {
  "kernelspec": {
   "display_name": "Python 3 (ipykernel)",
   "language": "python",
   "name": "python3"
  },
  "language_info": {
   "codemirror_mode": {
    "name": "ipython",
    "version": 3
   },
   "file_extension": ".py",
   "mimetype": "text/x-python",
   "name": "python",
   "nbconvert_exporter": "python",
   "pygments_lexer": "ipython3",
   "version": "3.11.7"
  }
 },
 "nbformat": 4,
 "nbformat_minor": 5
}
