{
 "cells": [
  {
   "cell_type": "code",
   "execution_count": 1,
   "id": "049a5774",
   "metadata": {},
   "outputs": [],
   "source": [
    "import pandas as pd"
   ]
  },
  {
   "cell_type": "code",
   "execution_count": 2,
   "id": "3f3d7d16",
   "metadata": {},
   "outputs": [],
   "source": [
    "file_path_pm10_average_location_wise = \"C:/Users/shafi/Music/Spatial_Research_Coding_Post/HourlyAverage_Data/hourly_pm10_output_location_wise.xlsx\"\n",
    "data_3 = pd.read_excel(file_path_pm10_average_location_wise, sheet_name= 'data_3_Feb24')"
   ]
  },
  {
   "cell_type": "markdown",
   "id": "9b573f6f",
   "metadata": {},
   "source": [
    "#### k-means clustering\n",
    "##### Visualisation"
   ]
  },
  {
   "cell_type": "code",
   "execution_count": 5,
   "id": "f1c852e6",
   "metadata": {},
   "outputs": [
    {
     "name": "stderr",
     "output_type": "stream",
     "text": [
      "C:\\Users\\shafi\\anaconda3\\lib\\site-packages\\sklearn\\cluster\\_kmeans.py:1440: UserWarning: KMeans is known to have a memory leak on Windows with MKL, when there are less chunks than available threads. You can avoid it by setting the environment variable OMP_NUM_THREADS=1.\n",
      "  warnings.warn(\n"
     ]
    }
   ],
   "source": [
    "import pandas as pd\n",
    "from sklearn.cluster import KMeans\n",
    "import folium\n",
    "\n",
    "\n",
    "valid_mask = data_3[['lat', 'lon', 'mean_location_pm10']].notna().all(axis=1) # missing values need to be masked\n",
    "\n",
    "cluster_data = data_3.loc[valid_mask, ['lat', 'lon', 'mean_location_pm10']]\n",
    "\n",
    "# K-Means clustering\n",
    "kmeans = KMeans(n_clusters=3, random_state=42, n_init=10)  # Explicitly set n_init to suppress warning\n",
    "cluster_labels = kmeans.fit_predict(cluster_data)\n",
    "\n",
    "\n",
    "data_3['cluster'] = -1  # Use -1 to indicate rows with missing values\n",
    "\n",
    "data_3.loc[valid_mask, 'cluster'] = cluster_labels\n",
    "\n",
    "# base map centered on MMR\n",
    "cluster_map = folium.Map(location=[19.0760, 72.8777], zoom_start=10)\n",
    "\n",
    "\n",
    "colors = ['red', 'blue', 'green'] #colors for clusters\n",
    "\n",
    "# markers for each location with valid cluster labels\n",
    "for idx, row in data_3.iterrows():\n",
    "    if row['cluster'] != -1:  # Only plot rows with valid cluster labels\n",
    "        folium.CircleMarker(\n",
    "            location=[row['lat'], row['lon']],\n",
    "            radius=5,\n",
    "            color=colors[int(row['cluster'])],  # Ensure cluster is an integer\n",
    "            fill=True,\n",
    "            fill_color=colors[int(row['cluster'])],\n",
    "            popup=f\"Cluster: {row['cluster']}, PM10: {row['mean_location_pm10']}\"\n",
    "        ).add_to(cluster_map)\n",
    "\n",
    "\n",
    "cluster_map.save('pm10_clusters_locations.html')\n",
    "#cluster_map"
   ]
  },
  {
   "cell_type": "markdown",
   "id": "e79743ab",
   "metadata": {},
   "source": [
    "#### k-means clustering\n",
    "##### Summary"
   ]
  },
  {
   "cell_type": "code",
   "execution_count": 6,
   "id": "af24ff1a",
   "metadata": {},
   "outputs": [
    {
     "name": "stdout",
     "output_type": "stream",
     "text": [
      "[[ 19.10750682  73.06381613 101.07501671]\n",
      " [ 19.10692494  72.98794774  47.215933  ]\n",
      " [ 19.1375506   73.10048378 194.9824595 ]]\n",
      "               mean         min         max\n",
      "cluster                                    \n",
      "0        101.075017   75.921362  139.759561\n",
      "1         47.215933   10.769588   72.788172\n",
      "2        194.982460  153.618690  250.411323\n"
     ]
    }
   ],
   "source": [
    "import numpy as np\n",
    "\n",
    "# Get cluster centers\n",
    "cluster_centers = kmeans.cluster_centers_\n",
    "print(cluster_centers)  # This gives lat, lon, and average PM10 per cluster\n",
    "\n",
    "# Get mean PM10 values for each cluster\n",
    "cluster_summary = data_3.groupby(\"cluster\")[\"mean_location_pm10\"].agg([\"mean\", \"min\", \"max\"])\n",
    "print(cluster_summary)"
   ]
  },
  {
   "cell_type": "markdown",
   "id": "160d7d01",
   "metadata": {},
   "source": [
    "#### Adding 'category' column by converting it one-hot"
   ]
  },
  {
   "cell_type": "code",
   "execution_count": 7,
   "id": "1abbe8a2",
   "metadata": {},
   "outputs": [
    {
     "name": "stderr",
     "output_type": "stream",
     "text": [
      "C:\\Users\\shafi\\anaconda3\\lib\\site-packages\\sklearn\\preprocessing\\_encoders.py:975: FutureWarning: `sparse` was renamed to `sparse_output` in version 1.2 and will be removed in 1.4. `sparse_output` is ignored unless you leave `sparse` to its default value.\n",
      "  warnings.warn(\n",
      "C:\\Users\\shafi\\anaconda3\\lib\\site-packages\\sklearn\\cluster\\_kmeans.py:1440: UserWarning: KMeans is known to have a memory leak on Windows with MKL, when there are less chunks than available threads. You can avoid it by setting the environment variable OMP_NUM_THREADS=1.\n",
      "  warnings.warn(\n"
     ]
    }
   ],
   "source": [
    "import pandas as pd\n",
    "from sklearn.cluster import KMeans\n",
    "from sklearn.preprocessing import OneHotEncoder\n",
    "import folium\n",
    "\n",
    "# Create a mask for valid rows\n",
    "valid_mask = data_3[['lat', 'lon', 'mean_location_pm10', 'category']].notna().all(axis=1)\n",
    "\n",
    "# One-hot encode 'category'\n",
    "encoder = OneHotEncoder(sparse=False)  # ✅ Use sparse=False instead of sparse_output=False\n",
    "encoded_category = encoder.fit_transform(data_3[['category']])\n",
    "\n",
    "# Convert to DataFrame and add column names\n",
    "category_df = pd.DataFrame(encoded_category, columns=encoder.get_feature_names_out(['category']))\n",
    "\n",
    "# Concatenate with numerical columns\n",
    "cluster_data = pd.concat([data_3[['lat', 'lon', 'mean_location_pm10']], category_df], axis=1)\n",
    "\n",
    "# Perform K-Means clustering\n",
    "kmeans_with_category = KMeans(n_clusters=3, random_state=42, n_init=10)\n",
    "cluster_labels_with_category = kmeans_with_category.fit_predict(cluster_data)\n",
    "\n",
    "# Assign new clusters\n",
    "data_3['cluster_with_category'] = -1  # -1 for missing values\n",
    "data_3.loc[valid_mask, 'cluster_with_category'] = cluster_labels_with_category\n",
    "\n"
   ]
  },
  {
   "cell_type": "markdown",
   "id": "c6e7374f",
   "metadata": {},
   "source": [
    "##### visualisation after incorporating category column"
   ]
  },
  {
   "cell_type": "code",
   "execution_count": 8,
   "id": "53e0ebe3",
   "metadata": {},
   "outputs": [],
   "source": [
    "#Create a base map centered on MMR\n",
    "cluster_map = folium.Map(location=[19.0760, 72.8777], zoom_start=10)\n",
    "\n",
    "# Define colors for clusters\n",
    "colors = ['red', 'blue', 'green']\n",
    "\n",
    "# Add markers for each location with new cluster labels\n",
    "for idx, row in data_3.iterrows():\n",
    "    if row['cluster_with_category'] != -1:  # Only plot rows with valid cluster labels\n",
    "        folium.CircleMarker(\n",
    "            location=[row['lat'], row['lon']],\n",
    "            radius=5,\n",
    "            color=colors[int(row['cluster_with_category'])],  # Ensure cluster is an integer\n",
    "            fill=True,\n",
    "            fill_color=colors[int(row['cluster_with_category'])],\n",
    "            popup=f\"Cluster: {row['cluster_with_category']}, PM10: {row['mean_location_pm10']}, Category: {row['category']}\"\n",
    "        ).add_to(cluster_map)\n",
    "\n",
    "# Save and display the updated map\n",
    "cluster_map.save('pm10_clusters_with_category.html')\n",
    "#cluster_map\n"
   ]
  },
  {
   "cell_type": "markdown",
   "id": "b8f2acc9",
   "metadata": {},
   "source": [
    "#### DBSCAN"
   ]
  },
  {
   "cell_type": "code",
   "execution_count": 15,
   "id": "bae23313",
   "metadata": {},
   "outputs": [],
   "source": [
    "import matplotlib.pyplot as plt\n",
    "import seaborn as sns"
   ]
  },
  {
   "cell_type": "code",
   "execution_count": 9,
   "id": "6166f9a5",
   "metadata": {},
   "outputs": [],
   "source": [
    "file_path_pm10_hourly_wise = \"C:/Users/shafi/Music/Spatial_Research_Coding_Post/HourlyAverage_Data/hourly_pm10_output_location_wise.xlsx\"\n",
    "data_2 = pd.read_excel(file_path_pm10_hourly_wise)"
   ]
  },
  {
   "cell_type": "code",
   "execution_count": 16,
   "id": "13651381",
   "metadata": {},
   "outputs": [
    {
     "data": {
      "image/png": "[encoded data removed]",
      "text/plain": [
       "<Figure size 720x576 with 1 Axes>"
      ]
     },
     "metadata": {
      "needs_background": "light"
     },
     "output_type": "display_data"
    }
   ],
   "source": [
    "from sklearn.cluster import DBSCAN\n",
    "\n",
    "# Prepare data for clustering\n",
    "coords = data_2[['lat', 'lon']].values\n",
    "db = DBSCAN(eps=0.02, min_samples=5).fit(coords)\n",
    "data_2['cluster'] = db.labels_\n",
    "\n",
    "# Plot clusters\n",
    "plt.figure(figsize=(10, 8))\n",
    "sns.scatterplot(x='lon', y='lat', hue='cluster', data=data_2, palette='viridis')\n",
    "plt.title('Temporal-Spatial Clustering of PM10')\n",
    "plt.show()"
   ]
  },
  {
   "cell_type": "code",
   "execution_count": 19,
   "id": "be568a27",
   "metadata": {},
   "outputs": [
    {
     "name": "stdout",
     "output_type": "stream",
     "text": [
      "0     768\n",
      "1      96\n",
      "2     456\n",
      "3      72\n",
      "4     288\n",
      "5      96\n",
      "6     168\n",
      "7      48\n",
      "8     120\n",
      "9     120\n",
      "10     48\n",
      "11     24\n",
      "12     48\n",
      "13     48\n",
      "14     24\n",
      "15     72\n",
      "16     48\n",
      "17     48\n",
      "18     24\n",
      "Name: cluster, dtype: int64\n"
     ]
    }
   ],
   "source": [
    "from sklearn.cluster import DBSCAN\n",
    "\n",
    "# Adjust DBSCAN parameters\n",
    "eps = 0.05  # Optimise this to see how numbers changes. -1 (noise point) should have least count of clusters.\n",
    "min_samples = 5  # Decrease this value to form clusters with fewer points\n",
    "\n",
    "# Perform DBSCAN clustering\n",
    "coords = data_2[['lat', 'lon']].values\n",
    "db = DBSCAN(eps=eps, min_samples=min_samples).fit(coords)\n",
    "data_2['cluster'] = db.labels_\n",
    "\n",
    "# Count the number of points in each cluster\n",
    "cluster_counts = data_2['cluster'].value_counts().sort_index()\n",
    "print(cluster_counts)"
   ]
  },
  {
   "cell_type": "code",
   "execution_count": null,
   "id": "cd7fc1cd",
   "metadata": {},
   "outputs": [],
   "source": []
  },
  {
   "cell_type": "code",
   "execution_count": null,
   "id": "0a7b3b7f",
   "metadata": {},
   "outputs": [],
   "source": []
  },
  {
   "cell_type": "code",
   "execution_count": null,
   "id": "55bf5bd9",
   "metadata": {},
   "outputs": [],
   "source": []
  },
  {
   "cell_type": "code",
   "execution_count": null,
   "id": "950c5461",
   "metadata": {},
   "outputs": [],
   "source": []
  }
 ],
 "metadata": {
  "kernelspec": {
   "display_name": "Python 3",
   "language": "python",
   "name": "python3"
  },
  "language_info": {
   "codemirror_mode": {
    "name": "ipython",
    "version": 3
   },
   "file_extension": ".py",
   "mimetype": "text/x-python",
   "name": "python",
   "nbconvert_exporter": "python",
   "pygments_lexer": "ipython3",
   "version": "3.8.8"
  }
 },
 "nbformat": 4,
 "nbformat_minor": 5
}
